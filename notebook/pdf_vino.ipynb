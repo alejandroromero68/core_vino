{
 "cells": [
  {
   "cell_type": "markdown",
   "metadata": {},
   "source": []
  },
  {
   "cell_type": "code",
   "execution_count": 1,
   "metadata": {},
   "outputs": [
    {
     "name": "stdout",
     "output_type": "stream",
     "text": [
      "Informe generado: informe_analisis_vino.pdf\n"
     ]
    }
   ],
   "source": [
    "import pandas as pd\n",
    "import matplotlib.pyplot as plt\n",
    "from fpdf import FPDF\n",
    "\n",
    "# Crear una clase PDF personalizada\n",
    "class PDF(FPDF):\n",
    "    def header(self):\n",
    "        self.set_font('Arial', 'B', 12)\n",
    "        self.cell(0, 10, 'Informe de Análisis de Calidad del Vino', align='C', ln=1)\n",
    "\n",
    "    def footer(self):\n",
    "        self.set_y(-15)\n",
    "        self.set_font('Arial', 'I', 8)\n",
    "        self.cell(0, 10, f'Página {self.page_no()}', align='C')\n",
    "\n",
    "    def add_section_title(self, title):\n",
    "        self.set_font('Arial', 'B', 12)\n",
    "        self.cell(0, 10, title, ln=1, align='L')\n",
    "        self.ln(5)\n",
    "\n",
    "    def add_paragraph(self, text):\n",
    "        self.set_font('Arial', '', 10)\n",
    "        self.multi_cell(0, 10, text)\n",
    "        self.ln()\n",
    "\n",
    "    def add_image(self, path, w, h):\n",
    "        self.image(path, w=w, h=h)\n",
    "        self.ln(10)\n",
    "\n",
    "# Crear un gráfico de ejemplo\n",
    "def create_sample_chart():\n",
    "    data = {'Calidad': [3, 4, 5, 6, 7, 8], 'Frecuencia': [10, 20, 50, 100, 60, 15]}\n",
    "    df = pd.DataFrame(data)\n",
    "    \n",
    "    plt.bar(df['Calidad'], df['Frecuencia'], color='skyblue', edgecolor='black')\n",
    "    plt.title('Distribución de Calidad del Vino')\n",
    "    plt.xlabel('Calidad')\n",
    "    plt.ylabel('Frecuencia')\n",
    "    plt.savefig('quality_distribution.png')\n",
    "    plt.close()\n",
    "\n",
    "# Crear el PDF\n",
    "def create_pdf():\n",
    "    pdf = PDF()\n",
    "    pdf.add_page()\n",
    "    \n",
    "    # Sección 1: Introducción\n",
    "    pdf.add_section_title(\"Introducción\")\n",
    "    pdf.add_paragraph(\"Este informe presenta el análisis de la calidad del vino basado en características físico-químicas.\")\n",
    "    \n",
    "    # Sección 2: Dataset\n",
    "    pdf.add_section_title(\"Descripción del Dataset\")\n",
    "    pdf.add_paragraph(\"El dataset contiene información sobre características como acidez, densidad, pH, alcohol, entre otras, y su calidad asociada en una escala del 0 al 10.\")\n",
    "\n",
    "    # Sección 3: Análisis Gráfico\n",
    "    pdf.add_section_title(\"Análisis Gráfico\")\n",
    "    create_sample_chart()\n",
    "    pdf.add_image('quality_distribution.png', w=100, h=70)\n",
    "\n",
    "    # Sección 4: Conclusiones\n",
    "    pdf.add_section_title(\"Conclusiones\")\n",
    "    pdf.add_paragraph(\"Los modelos de clasificación mostraron que la calidad del vino está influenciada significativamente por las características químicas, siendo el alcohol una de las variables más relevantes.\")\n",
    "\n",
    "    # Guardar el archivo\n",
    "    pdf.output(\"informe_analisis_vino.pdf\")\n",
    "    print(\"Informe generado: informe_analisis_vino.pdf\")\n",
    "\n",
    "# Ejecutar\n",
    "create_pdf()\n"
   ]
  }
 ],
 "metadata": {
  "kernelspec": {
   "display_name": "bootcamp_mitic",
   "language": "python",
   "name": "python3"
  },
  "language_info": {
   "codemirror_mode": {
    "name": "ipython",
    "version": 3
   },
   "file_extension": ".py",
   "mimetype": "text/x-python",
   "name": "python",
   "nbconvert_exporter": "python",
   "pygments_lexer": "ipython3",
   "version": "3.11.10"
  }
 },
 "nbformat": 4,
 "nbformat_minor": 2
}
